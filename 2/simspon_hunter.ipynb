{
 "cells": [
  {
   "cell_type": "code",
   "execution_count": 25,
   "metadata": {},
   "outputs": [],
   "source": [
    "from thetis import*"
   ]
  },
  {
   "cell_type": "code",
   "execution_count": 26,
   "metadata": {},
   "outputs": [],
   "source": [
    "lx,ly,nx,ny = 1000.,20.,100.,10.\n",
    "mesh = RectangleMesh(lx,ly,nx,ny)\n",
    "P1DG = FunctionSpace(mesh,'CG', 1)\n",
    "bathymetry2d = Function(P1DG, name='bathymetry')\n",
    "depth = 2.0\n",
    "bathymetry2d.assign(depth)\n",
    "\n",
    "output_dir = 'mean_max'"
   ]
  },
  {
   "cell_type": "code",
   "execution_count": 27,
   "metadata": {},
   "outputs": [],
   "source": [
    "P1DG_2 = FunctionSpace(mesh, 'DG', 1)\n",
    "mean_max = Function(P1DG_2, name = 'mean_velocity')\n",
    "check_1 = DumbCheckpoint(output_dir + '/mean_velocity', mode=FILE_READ)\n",
    "check_1.load(mean_max)"
   ]
  },
  {
   "cell_type": "code",
   "execution_count": 28,
   "metadata": {},
   "outputs": [],
   "source": [
    "x_mean = Function(P1DG).interpolate(bathymetry2d/pow(mean_max,3))"
   ]
  }
 ],
 "metadata": {
  "kernelspec": {
   "display_name": "Python 3",
   "language": "python",
   "name": "python3"
  },
  "language_info": {
   "codemirror_mode": {
    "name": "ipython",
    "version": 3
   },
   "file_extension": ".py",
   "mimetype": "text/x-python",
   "name": "python",
   "nbconvert_exporter": "python",
   "pygments_lexer": "ipython3",
   "version": "3.5.2"
  }
 },
 "nbformat": 4,
 "nbformat_minor": 2
}
